{
 "cells": [
  {
   "cell_type": "code",
   "execution_count": 1,
   "id": "dddf0f84",
   "metadata": {},
   "outputs": [],
   "source": [
    "import pandas as pd"
   ]
  },
  {
   "cell_type": "code",
   "execution_count": 3,
   "id": "03975a55",
   "metadata": {},
   "outputs": [
    {
     "name": "stderr",
     "output_type": "stream",
     "text": [
      "'wget' is not recognized as an internal or external command,\n",
      "operable program or batch file.\n",
      "'chmod' is not recognized as an internal or external command,\n",
      "operable program or batch file.\n",
      "'bash' is not recognized as an internal or external command,\n",
      "operable program or batch file.\n"
     ]
    },
    {
     "name": "stdout",
     "output_type": "stream",
     "text": [
      "^C\n"
     ]
    }
   ],
   "source": [
    "! wget https://repo.anaconda.com/miniconda/Miniconda3-py37_4.8.2-Linux-x86_64.sh\n",
    "! chmod +x Miniconda3-py37_4.8.2-Linux-x86_64.sh\n",
    "! bash ./Miniconda3-py37_4.8.2-Linux-x86_64.sh -b -f -p /usr/local\n",
    "! conda install -c rdkit rdkit -y\n",
    "import sys\n",
    "sys.path.append('/usr/local/lib/python3.7/site-packages/')"
   ]
  },
  {
   "cell_type": "code",
   "execution_count": 5,
   "id": "bd59e0ea",
   "metadata": {},
   "outputs": [
    {
     "name": "stdout",
     "output_type": "stream",
     "text": [
      "Collecting package metadata (current_repodata.json): ...working... done"
     ]
    },
    {
     "name": "stderr",
     "output_type": "stream",
     "text": [
      "\n",
      "Building graph of deps:   0%|          | 0/4 [00:00<?, ?it/s]\n",
      "Examining python=3.9:   0%|          | 0/4 [00:00<?, ?it/s]  \n",
      "Examining rdkit:  25%|##5       | 1/4 [00:00<00:00,  9.64it/s]\n",
      "Examining rdkit:  50%|#####     | 2/4 [00:00<00:00, 19.28it/s]\n",
      "Examining @/win-64::__win==0=0:  50%|#####     | 2/4 [00:03<00:00, 19.28it/s]\n",
      "Examining @/win-64::__archspec==1=x86_64:  75%|#######5  | 3/4 [00:03<00:00, 19.28it/s]\n",
      "Examining @/win-64::__archspec==1=x86_64: 100%|##########| 4/4 [00:03<00:00,  1.05it/s]\n",
      "                                                                                       \n",
      "\n",
      "Determining conflicts:   0%|          | 0/4 [00:00<?, ?it/s]\n",
      "Examining conflict for python rdkit:   0%|          | 0/4 [00:00<?, ?it/s]\n",
      "                                                                          \n",
      "\n",
      "UnsatisfiableError: The following specifications were found\n",
      "to be incompatible with the existing python installation in your environment:\n",
      "\n",
      "Specifications:\n",
      "\n",
      "  - rdkit -> python[version='2.7.*|3.5.*|3.6.*|>=2.7,<2.8.0a0|>=3.5,<3.6.0a0|>=3.6,<3.7.0a0|>=3.7,<3.8.0a0|3.4.*']\n",
      "\n",
      "Your python: python=3.9\n",
      "\n",
      "If python is on the left-most side of the chain, that's the version you've asked for.\n",
      "When python appears to the right, that indicates that the thing on the left is somehow\n",
      "not available for the python version you are constrained to. Note that conda will not\n",
      "change your python version to a different minor version unless you explicitly specify\n",
      "that.\n",
      "\n",
      "\n",
      "\n"
     ]
    },
    {
     "name": "stdout",
     "output_type": "stream",
     "text": [
      "\n",
      "Solving environment: ...working... failed with initial frozen solve. Retrying with flexible solve.\n",
      "Solving environment: ...working... failed with repodata from current_repodata.json, will retry with next repodata source.\n",
      "Collecting package metadata (repodata.json): ...working... done\n",
      "Solving environment: ...working... failed with initial frozen solve. Retrying with flexible solve.\n",
      "Solving environment: ...working... \n",
      "Found conflicts! Looking for incompatible packages.\n",
      "This can take several minutes.  Press CTRL-C to abort.\n",
      "failed\n"
     ]
    }
   ],
   "source": [
    "! conda install -c rdkit rdkit -y"
   ]
  },
  {
   "cell_type": "code",
   "execution_count": 4,
   "id": "580a76ec",
   "metadata": {},
   "outputs": [],
   "source": [
    "df = pd.read_csv(\"bioactivity_data.csv\")"
   ]
  },
  {
   "cell_type": "code",
   "execution_count": 2,
   "id": "c5dd720d",
   "metadata": {},
   "outputs": [
    {
     "ename": "ModuleNotFoundError",
     "evalue": "No module named 'rdkit'",
     "output_type": "error",
     "traceback": [
      "\u001b[1;31m---------------------------------------------------------------------------\u001b[0m",
      "\u001b[1;31mModuleNotFoundError\u001b[0m                       Traceback (most recent call last)",
      "\u001b[1;32m~\\AppData\\Local\\Temp/ipykernel_6852/1129377055.py\u001b[0m in \u001b[0;36m<module>\u001b[1;34m\u001b[0m\n\u001b[0;32m      1\u001b[0m \u001b[1;32mimport\u001b[0m \u001b[0mnumpy\u001b[0m \u001b[1;32mas\u001b[0m \u001b[0mnp\u001b[0m\u001b[1;33m\u001b[0m\u001b[1;33m\u001b[0m\u001b[0m\n\u001b[1;32m----> 2\u001b[1;33m \u001b[1;32mfrom\u001b[0m \u001b[0mrdkit\u001b[0m \u001b[1;32mimport\u001b[0m \u001b[0mChem\u001b[0m\u001b[1;33m\u001b[0m\u001b[1;33m\u001b[0m\u001b[0m\n\u001b[0m\u001b[0;32m      3\u001b[0m \u001b[1;31m# from rdkit.Chem import Descriptors, Lipinski\u001b[0m\u001b[1;33m\u001b[0m\u001b[1;33m\u001b[0m\u001b[0m\n",
      "\u001b[1;31mModuleNotFoundError\u001b[0m: No module named 'rdkit'"
     ]
    }
   ],
   "source": [
    "\n",
    "import numpy as np\n",
    "from rdkit import Chem\n",
    "# from rdkit.Chem import Descriptors, Lipinski"
   ]
  },
  {
   "cell_type": "code",
   "execution_count": 8,
   "id": "9ec6512a",
   "metadata": {},
   "outputs": [
    {
     "ename": "NameError",
     "evalue": "name 'rdkit' is not defined",
     "output_type": "error",
     "traceback": [
      "\u001b[1;31m---------------------------------------------------------------------------\u001b[0m",
      "\u001b[1;31mNameError\u001b[0m                                 Traceback (most recent call last)",
      "\u001b[1;32m<ipython-input-8-ac1af7997767>\u001b[0m in \u001b[0;36m<module>\u001b[1;34m\u001b[0m\n\u001b[1;32m----> 1\u001b[1;33m \u001b[0mdir\u001b[0m\u001b[1;33m(\u001b[0m\u001b[0mrdkit\u001b[0m\u001b[1;33m)\u001b[0m\u001b[1;33m\u001b[0m\u001b[1;33m\u001b[0m\u001b[0m\n\u001b[0m",
      "\u001b[1;31mNameError\u001b[0m: name 'rdkit' is not defined"
     ]
    }
   ],
   "source": [
    "dir(rdkit)"
   ]
  },
  {
   "cell_type": "code",
   "execution_count": null,
   "id": "ee6b67be",
   "metadata": {},
   "outputs": [],
   "source": []
  },
  {
   "cell_type": "code",
   "execution_count": null,
   "id": "b165ec40",
   "metadata": {},
   "outputs": [],
   "source": []
  },
  {
   "cell_type": "code",
   "execution_count": 3,
   "id": "3679f667",
   "metadata": {},
   "outputs": [
    {
     "name": "stdout",
     "output_type": "stream",
     "text": [
      "Package                   Version\n",
      "------------------------- ---------\n",
      "argon2-cffi               20.1.0\n",
      "async-generator           1.10\n",
      "attrs                     21.2.0\n",
      "backcall                  0.2.0\n",
      "bleach                    4.0.0\n",
      "certifi                   2021.10.8\n",
      "cffi                      1.14.6\n",
      "charset-normalizer        2.0.7\n",
      "chembl-webresource-client 0.10.7\n",
      "colorama                  0.4.4\n",
      "debugpy                   1.4.1\n",
      "decorator                 5.1.0\n",
      "defusedxml                0.7.1\n",
      "easydict                  1.9\n",
      "entrypoints               0.3\n",
      "idna                      3.3\n",
      "importlib-metadata        4.8.1\n",
      "ipykernel                 6.4.1\n",
      "ipython                   7.29.0\n",
      "ipython-genutils          0.2.0\n",
      "itsdangerous              2.0.1\n",
      "jedi                      0.18.0\n",
      "Jinja2                    3.0.2\n",
      "jsonschema                3.2.0\n",
      "jupyter-client            7.0.1\n",
      "jupyter-core              4.8.1\n",
      "jupyterlab-pygments       0.1.2\n",
      "MarkupSafe                2.0.1\n",
      "matplotlib-inline         0.1.2\n",
      "mistune                   0.8.4\n",
      "nb-conda-kernels          2.3.1\n",
      "nbclient                  0.5.3\n",
      "nbconvert                 6.1.0\n",
      "nbformat                  5.1.3\n",
      "nest-asyncio              1.5.1\n",
      "notebook                  6.4.5\n",
      "numpy                     1.21.4\n",
      "packaging                 21.0\n",
      "pandas                    1.3.4\n",
      "pandocfilters             1.4.3\n",
      "parso                     0.8.2\n",
      "pickleshare               0.7.5\n",
      "pip                       21.2.4\n",
      "prometheus-client         0.11.0\n",
      "prompt-toolkit            3.0.20\n",
      "pycparser                 2.20\n",
      "Pygments                  2.10.0\n",
      "pyparsing                 3.0.4\n",
      "pyrsistent                0.18.0\n",
      "python-dateutil           2.8.2\n",
      "pytz                      2021.3\n",
      "pywin32                   228\n",
      "pywinpty                  0.5.7\n",
      "PyYAML                    6.0\n",
      "pyzmq                     22.2.1\n",
      "requests                  2.26.0\n",
      "requests-cache            0.7.5\n",
      "Send2Trash                1.8.0\n",
      "setuptools                58.0.4\n",
      "six                       1.16.0\n",
      "terminado                 0.9.4\n",
      "testpath                  0.5.0\n",
      "tornado                   6.1\n",
      "traitlets                 5.1.0\n",
      "url-normalize             1.4.3\n",
      "urllib3                   1.26.7\n",
      "wcwidth                   0.2.5\n",
      "webencodings              0.5.1\n",
      "wheel                     0.37.0\n",
      "wincertstore              0.2\n",
      "zipp                      3.6.0\n"
     ]
    }
   ],
   "source": [
    "!pip list"
   ]
  },
  {
   "cell_type": "code",
   "execution_count": 4,
   "id": "cd1ed8c2",
   "metadata": {},
   "outputs": [
    {
     "name": "stdout",
     "output_type": "stream",
     "text": [
      "argon2-cffi @ file:///C:/ci/argon2-cffi_1613037869401/work\n",
      "async-generator @ file:///home/ktietz/src/ci/async_generator_1611927993394/work\n",
      "attrs @ file:///tmp/build/80754af9/attrs_1620827162558/work\n",
      "backcall @ file:///home/ktietz/src/ci/backcall_1611930011877/work\n",
      "bleach @ file:///tmp/build/80754af9/bleach_1628110601003/work\n",
      "certifi==2021.10.8\n",
      "cffi @ file:///C:/ci/cffi_1625831756778/work\n",
      "charset-normalizer==2.0.7\n",
      "chembl-webresource-client==0.10.7\n",
      "colorama @ file:///tmp/build/80754af9/colorama_1607707115595/work\n",
      "debugpy @ file:///C:/ci/debugpy_1629222819322/work\n",
      "decorator @ file:///tmp/build/80754af9/decorator_1632776554403/work\n",
      "defusedxml @ file:///tmp/build/80754af9/defusedxml_1615228127516/work\n",
      "easydict==1.9\n",
      "entrypoints==0.3\n",
      "idna==3.3\n",
      "importlib-metadata @ file:///C:/ci/importlib-metadata_1631916826748/work\n",
      "ipykernel @ file:///C:/ci/ipykernel_1633545585502/work/dist/ipykernel-6.4.1-py3-none-any.whl\n",
      "ipython @ file:///C:/ci/ipython_1635944283918/work\n",
      "ipython-genutils @ file:///tmp/build/80754af9/ipython_genutils_1606773439826/work\n",
      "itsdangerous==2.0.1\n",
      "jedi @ file:///C:/ci/jedi_1611341083684/work\n",
      "Jinja2 @ file:///tmp/build/80754af9/jinja2_1635780242639/work\n",
      "jsonschema @ file:///Users/ktietz/demo/mc3/conda-bld/jsonschema_1630511932244/work\n",
      "jupyter-client @ file:///tmp/build/80754af9/jupyter_client_1630690655192/work\n",
      "jupyter-core @ file:///C:/ci/jupyter_core_1633420716440/work\n",
      "jupyterlab-pygments @ file:///tmp/build/80754af9/jupyterlab_pygments_1601490720602/work\n",
      "MarkupSafe @ file:///C:/ci/markupsafe_1621528502553/work\n",
      "matplotlib-inline @ file:///tmp/build/80754af9/matplotlib-inline_1628242447089/work\n",
      "mistune @ file:///C:/ci/mistune_1607359457024/work\n",
      "nb-conda-kernels @ file:///C:/ci/nb_conda_kernels_1636036497477/work\n",
      "nbclient @ file:///tmp/build/80754af9/nbclient_1614364831625/work\n",
      "nbconvert @ file:///C:/ci/nbconvert_1624479160025/work\n",
      "nbformat @ file:///tmp/build/80754af9/nbformat_1617383369282/work\n",
      "nest-asyncio @ file:///tmp/build/80754af9/nest-asyncio_1613680548246/work\n",
      "notebook @ file:///C:/ci/notebook_1635393701545/work\n",
      "numpy==1.21.4\n",
      "packaging @ file:///tmp/build/80754af9/packaging_1625611678980/work\n",
      "pandas==1.3.4\n",
      "pandocfilters @ file:///C:/ci/pandocfilters_1605114832805/work\n",
      "parso @ file:///tmp/build/80754af9/parso_1617223946239/work\n",
      "pickleshare @ file:///tmp/build/80754af9/pickleshare_1606932040724/work\n",
      "prometheus-client @ file:///tmp/build/80754af9/prometheus_client_1623189609245/work\n",
      "prompt-toolkit @ file:///tmp/build/80754af9/prompt-toolkit_1633440160888/work\n",
      "pycparser @ file:///tmp/build/80754af9/pycparser_1594388511720/work\n",
      "Pygments @ file:///tmp/build/80754af9/pygments_1629234116488/work\n",
      "pyparsing @ file:///tmp/build/80754af9/pyparsing_1635766073266/work\n",
      "pyrsistent @ file:///C:/ci/pyrsistent_1636093225342/work\n",
      "python-dateutil @ file:///tmp/build/80754af9/python-dateutil_1626374649649/work\n",
      "pytz==2021.3\n",
      "pywin32==228\n",
      "pywinpty @ file:///C:/ci/pywinpty_1607419945780/work\n",
      "PyYAML==6.0\n",
      "pyzmq @ file:///C:/ci/pyzmq_1628276105793/work\n",
      "requests==2.26.0\n",
      "requests-cache==0.7.5\n",
      "Send2Trash @ file:///tmp/build/80754af9/send2trash_1632406701022/work\n",
      "six @ file:///tmp/build/80754af9/six_1623709665295/work\n",
      "terminado==0.9.4\n",
      "testpath @ file:///tmp/build/80754af9/testpath_1624638946665/work\n",
      "tornado @ file:///C:/ci/tornado_1606924294691/work\n",
      "traitlets @ file:///tmp/build/80754af9/traitlets_1632522747050/work\n",
      "url-normalize==1.4.3\n",
      "urllib3==1.26.7\n",
      "wcwidth @ file:///Users/ktietz/demo/mc3/conda-bld/wcwidth_1629357192024/work\n",
      "webencodings==0.5.1\n",
      "wincertstore==0.2\n",
      "zipp @ file:///tmp/build/80754af9/zipp_1633618647012/work\n"
     ]
    }
   ],
   "source": [
    "!pip freeze"
   ]
  },
  {
   "cell_type": "code",
   "execution_count": null,
   "id": "8c536ee6",
   "metadata": {},
   "outputs": [],
   "source": []
  }
 ],
 "metadata": {
  "kernelspec": {
   "display_name": "Python 3 (ipykernel)",
   "language": "python",
   "name": "python3"
  },
  "language_info": {
   "codemirror_mode": {
    "name": "ipython",
    "version": 3
   },
   "file_extension": ".py",
   "mimetype": "text/x-python",
   "name": "python",
   "nbconvert_exporter": "python",
   "pygments_lexer": "ipython3",
   "version": "3.9.6"
  }
 },
 "nbformat": 4,
 "nbformat_minor": 5
}
